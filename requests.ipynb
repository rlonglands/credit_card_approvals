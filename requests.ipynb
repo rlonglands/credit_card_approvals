{
 "cells": [
  {
   "cell_type": "code",
   "execution_count": 1,
   "metadata": {},
   "outputs": [],
   "source": [
    "import requests"
   ]
  },
  {
   "cell_type": "code",
   "execution_count": 5,
   "metadata": {},
   "outputs": [],
   "source": [
    "url = \"http://localhost:9696/approve\""
   ]
  },
  {
   "cell_type": "code",
   "execution_count": 3,
   "metadata": {},
   "outputs": [],
   "source": [
    "cus1 = {\n",
    "        'gender': \"a\", \n",
    "        'age':22.92 ,\n",
    "        'debt' :11.585, \n",
    "        'married' : \"u\", \n",
    "        'bankcustomer': \"g\", \n",
    "        'educationlevel': \"cc\",\n",
    "        'ethnicity': \"v\", \n",
    "        'yearsemployed':0.04 , \n",
    "        'priordefault': \"t\", \n",
    "        'employed': \"f\", \n",
    "        'creditscore': 0,\n",
    "       'driverslicense': \"f\", \n",
    "       'citizen': \"g\", \n",
    "       'zipcode': \"00080\", \n",
    "       'income': 1349}\n",
    "\n",
    "cus2 = {\n",
    "        'gender': \"b\", \n",
    "        'age':42.50 ,\n",
    "        'debt' :4.915, \n",
    "        'married' : \"y\", \n",
    "        'bankcustomer': \"p\", \n",
    "        'educationlevel': \"w\",\n",
    "        'ethnicity': \"v\", \n",
    "        'yearsemployed':3.165 , \n",
    "        'priordefault': \"t\", \n",
    "        'employed': \"f\", \n",
    "        'creditscore': 0,\n",
    "       'driverslicense': \"t\", \n",
    "       'citizen': \"g\", \n",
    "       'zipcode': \"00052\", \n",
    "       'income': 1442}\n",
    "\n",
    "cus3= {\n",
    "        'gender': \"b\", \n",
    "        'age':33.17,\n",
    "        'debt' :1.04, \n",
    "        'married' : \"u\", \n",
    "        'bankcustomer': \"g\", \n",
    "        'educationlevel': \"r\",\n",
    "        'ethnicity': \"h\", \n",
    "        'yearsemployed':6.5 , \n",
    "        'priordefault': \"t\", \n",
    "        'employed': \"f\", \n",
    "        'creditscore': 0,\n",
    "       'driverslicense': \"t\", \n",
    "       'citizen': \"g\", \n",
    "       'zipcode': \"00164\", \n",
    "       'income': 31285}"
   ]
  },
  {
   "cell_type": "code",
   "execution_count": 8,
   "metadata": {},
   "outputs": [
    {
     "data": {
      "text/plain": [
       "{'approve': True, 'approve_probability': 0.5975146889686584}"
      ]
     },
     "execution_count": 8,
     "metadata": {},
     "output_type": "execute_result"
    }
   ],
   "source": [
    "requests.post(url, json=cus3).json()"
   ]
  },
  {
   "cell_type": "code",
   "execution_count": null,
   "metadata": {},
   "outputs": [],
   "source": []
  },
  {
   "cell_type": "code",
   "execution_count": null,
   "metadata": {},
   "outputs": [],
   "source": []
  }
 ],
 "metadata": {
  "kernelspec": {
   "display_name": "Python 3",
   "language": "python",
   "name": "python3"
  },
  "language_info": {
   "codemirror_mode": {
    "name": "ipython",
    "version": 3
   },
   "file_extension": ".py",
   "mimetype": "text/x-python",
   "name": "python",
   "nbconvert_exporter": "python",
   "pygments_lexer": "ipython3",
   "version": "3.10.4"
  }
 },
 "nbformat": 4,
 "nbformat_minor": 2
}
